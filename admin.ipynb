{
 "cells": [
  {
   "cell_type": "code",
   "execution_count": null,
   "id": "298b4f23",
   "metadata": {},
   "outputs": [],
   "source": [
    "\n",
    "\n",
    "\n",
    "        "
   ]
  },
  {
   "cell_type": "code",
   "execution_count": null,
   "id": "0e3b464c",
   "metadata": {},
   "outputs": [],
   "source": [
    "\n",
    "\n"
   ]
  },
  {
   "cell_type": "code",
   "execution_count": 15,
   "id": "38772795",
   "metadata": {},
   "outputs": [
    {
     "name": "stdout",
     "output_type": "stream",
     "text": [
      "enter food namemaggie\n",
      "enter quentity56\n",
      "enter pricce of food45554\n",
      "enter discount on the food44\n",
      "enter stock34\n",
      "{996: {'food_id': 996, 'food_name': 'maggie', 'food_quantity': 56, 'food_price': 45554, 'food_discount': 44.0, 'food_stock': 34}}\n",
      "food_id 996 food_items {'food_id': 996, 'food_name': 'maggie', 'food_quantity': 56, 'food_price': 45554, 'food_discount': 44.0, 'food_stock': 34}\n",
      "enter the food id which you want to update996\n",
      "enter the field which you want to updatefood_name\n",
      "enter the updated valuechomin\n",
      "{996: {'food_id': 996, 'food_name': 'chomin', 'food_quantity': 56, 'food_price': 45554, 'food_discount': 44.0, 'food_stock': 34}}\n"
     ]
    }
   ],
   "source": [
    "import random\n",
    "import json\n",
    "class admin:\n",
    "    def __init__(self):\n",
    "          self.food={}\n",
    "        \n",
    "        \n",
    "    def Add_food_items(self):\n",
    "        self.food_id=random.randint(1,1000)\n",
    "        self.food_name=input(\"enter food name :\")\n",
    "        self.quantity=int(input(\"enter quentity\"))\n",
    "        self.price=int(input(\"enter pricce of food\"))\n",
    "        self.discount=float(input(\"enter discount on the food\"))\n",
    "        self.stock=int(input(\"enter stock\"))\n",
    "        self.item={\"food_id\":self.food_id,\"food_name\":self.food_name,\"food_quantity\":self.quantity,\"food_price\":self.price,\"food_discount\":self.discount,\"food_stock\":self.stock}\n",
    "        self.food[self.food_id]=self.item\n",
    "        with open(\"food.json\",\"w\") as f:\n",
    "            json.dump(self.food,f,indent=4)\n",
    "        return self.food\n",
    "\n",
    "    \n",
    "    def remove_food(self):\n",
    "        with open(\"food.json\",\"r\") as f:\n",
    "            ele=json.load(f)\n",
    "        for k,v in ele.items():\n",
    "            print(\"food_id\",k,\"food_items\",v)\n",
    "        id=int(input(\"enter the food id which you want to delete\"))\n",
    "        del self.food[id]\n",
    "        return self.food\n",
    "        with open(\"food.json\",\"w\") as f:\n",
    "           json.dump(self.food,f,indent=4)\n",
    "        return self.food\n",
    "    \n",
    "    \n",
    "    def view_food_items(self):\n",
    "         with open(\"food.json\",\"r\") as f:\n",
    "            ele=json.load(f)\n",
    "         for k,v in ele.items():\n",
    "            print(\"food_id\",k,\"food_items\",v)\n",
    "            \n",
    "            \n",
    "            \n",
    "    def edit_food_items(self):\n",
    "        with open(\"food.json\",\"r\") as f:\n",
    "            ele=json.load(f)\n",
    "        for k,v in ele.items():\n",
    "            print(\"food_id\",k,\"food_items\",v)\n",
    "        id=int(input(\"enter the food id which you want to update\"))\n",
    "        field=input(\"enter the field which you want to update\")\n",
    "        updated_value=input(\"enter the updated value\")\n",
    "        self.food[id][field]=updated_value\n",
    "        with open(\"food.json\",\"w\") as f:\n",
    "           json.dump(self.food,f,indent=4)\n",
    "        return self.food\n",
    "    \n",
    "        \n",
    "     \n",
    "        \n",
    "        \n",
    "        \n",
    "        \n",
    "        \n",
    "x=admin()\n",
    "print(x.Add_food_items())\n",
    "print(x.Add_food_items())\n",
    "print(x.edit_food_items())\n",
    "\n"
   ]
  },
  {
   "cell_type": "code",
   "execution_count": null,
   "id": "8446f65e",
   "metadata": {},
   "outputs": [],
   "source": []
  },
  {
   "cell_type": "code",
   "execution_count": null,
   "id": "05cc161a",
   "metadata": {},
   "outputs": [],
   "source": []
  }
 ],
 "metadata": {
  "kernelspec": {
   "display_name": "Python 3 (ipykernel)",
   "language": "python",
   "name": "python3"
  },
  "language_info": {
   "codemirror_mode": {
    "name": "ipython",
    "version": 3
   },
   "file_extension": ".py",
   "mimetype": "text/x-python",
   "name": "python",
   "nbconvert_exporter": "python",
   "pygments_lexer": "ipython3",
   "version": "3.10.9"
  }
 },
 "nbformat": 4,
 "nbformat_minor": 5
}
